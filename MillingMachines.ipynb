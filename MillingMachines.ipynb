{
  "nbformat": 4,
  "nbformat_minor": 0,
  "metadata": {
    "colab": {
      "provenance": [],
      "authorship_tag": "ABX9TyM7MvQqqUat2bMJvgkEw42I",
      "include_colab_link": true
    },
    "kernelspec": {
      "name": "python3",
      "display_name": "Python 3"
    },
    "language_info": {
      "name": "python"
    }
  },
  "cells": [
    {
      "cell_type": "markdown",
      "metadata": {
        "id": "view-in-github",
        "colab_type": "text"
      },
      "source": [
        "<a href=\"https://colab.research.google.com/github/AlbertCoding42/ML-Projects/blob/main/MillingMachines.ipynb\" target=\"_parent\"><img src=\"https://colab.research.google.com/assets/colab-badge.svg\" alt=\"Open In Colab\"/></a>"
      ]
    },
    {
      "cell_type": "markdown",
      "source": [
        "# **Predicting Milling Machine Failures Using Machine Learning:**\n",
        "\n",
        "## **Objective:** Developed a model to predict milling machine failures using historical machine data.\n",
        "\n",
        "## **Data Preprocessing:**\n",
        "\n",
        "### Conducted exploratory data analysis (EDA) to identify inconsistencies between 'Target' and 'Failure_Type' variables.\n",
        "### Addressed missing values and corrected data inconsistencies.\n",
        "### One-hot encoded categorical variables, such as 'Product_ID' and 'Type', for compatibility with gradient boosting models.\n",
        "\n",
        "## **Modeling and Evaluation:**\n",
        "\n",
        "### Trained and evaluated multiple models including XGBoost, Random Forest, Decision Tree, and LightGBM.\n",
        "### Achieved the best performance using XGBoost with an f1-score of 0.78.\n",
        "### Investigated various data balancing techniques like SMOTE, class weight balancing, and stratified sampling to optimize model performance.\n",
        "## **Key Insights:**\n",
        "\n",
        "### Identified that data balancing techniques did not enhance the performance of the models for this specific dataset.\n",
        "### Concluded that XGBoost without data balancing provided the most accurate predictions."
      ],
      "metadata": {
        "id": "7ySK7vSApcxF"
      }
    },
    {
      "cell_type": "code",
      "execution_count": null,
      "metadata": {
        "colab": {
          "base_uri": "https://localhost:8080/",
          "height": 206
        },
        "id": "heNAb2kNuk_K",
        "outputId": "e3f32639-e151-4d21-e556-80edbd71665f"
      },
      "outputs": [
        {
          "output_type": "execute_result",
          "data": {
            "text/plain": [
              "   UDI Product_ID Type  Air_temperature_[K]  Process_temperature_[K]  \\\n",
              "0    1     M14860    M                298.1                    308.6   \n",
              "1    2     L47181    L                298.2                    308.7   \n",
              "2    3     L47182    L                298.1                    308.5   \n",
              "3    4     L47183    L                298.2                    308.6   \n",
              "4    5     L47184    L                298.2                    308.7   \n",
              "\n",
              "   Rotational_speed_[rpm]  Torque_[Nm]  Tool_wear_[min]  Target Failure_Type  \n",
              "0                    1551         42.8                0       0   No Failure  \n",
              "1                    1408         46.3                3       0   No Failure  \n",
              "2                    1498         49.4                5       0   No Failure  \n",
              "3                    1433         39.5                7       0   No Failure  \n",
              "4                    1408         40.0                9       0   No Failure  "
            ],
            "text/html": [
              "\n",
              "\n",
              "  <div id=\"df-8d30d879-334e-490d-80c0-2a0b0419fff8\">\n",
              "    <div class=\"colab-df-container\">\n",
              "      <div>\n",
              "<style scoped>\n",
              "    .dataframe tbody tr th:only-of-type {\n",
              "        vertical-align: middle;\n",
              "    }\n",
              "\n",
              "    .dataframe tbody tr th {\n",
              "        vertical-align: top;\n",
              "    }\n",
              "\n",
              "    .dataframe thead th {\n",
              "        text-align: right;\n",
              "    }\n",
              "</style>\n",
              "<table border=\"1\" class=\"dataframe\">\n",
              "  <thead>\n",
              "    <tr style=\"text-align: right;\">\n",
              "      <th></th>\n",
              "      <th>UDI</th>\n",
              "      <th>Product_ID</th>\n",
              "      <th>Type</th>\n",
              "      <th>Air_temperature_[K]</th>\n",
              "      <th>Process_temperature_[K]</th>\n",
              "      <th>Rotational_speed_[rpm]</th>\n",
              "      <th>Torque_[Nm]</th>\n",
              "      <th>Tool_wear_[min]</th>\n",
              "      <th>Target</th>\n",
              "      <th>Failure_Type</th>\n",
              "    </tr>\n",
              "  </thead>\n",
              "  <tbody>\n",
              "    <tr>\n",
              "      <th>0</th>\n",
              "      <td>1</td>\n",
              "      <td>M14860</td>\n",
              "      <td>M</td>\n",
              "      <td>298.1</td>\n",
              "      <td>308.6</td>\n",
              "      <td>1551</td>\n",
              "      <td>42.8</td>\n",
              "      <td>0</td>\n",
              "      <td>0</td>\n",
              "      <td>No Failure</td>\n",
              "    </tr>\n",
              "    <tr>\n",
              "      <th>1</th>\n",
              "      <td>2</td>\n",
              "      <td>L47181</td>\n",
              "      <td>L</td>\n",
              "      <td>298.2</td>\n",
              "      <td>308.7</td>\n",
              "      <td>1408</td>\n",
              "      <td>46.3</td>\n",
              "      <td>3</td>\n",
              "      <td>0</td>\n",
              "      <td>No Failure</td>\n",
              "    </tr>\n",
              "    <tr>\n",
              "      <th>2</th>\n",
              "      <td>3</td>\n",
              "      <td>L47182</td>\n",
              "      <td>L</td>\n",
              "      <td>298.1</td>\n",
              "      <td>308.5</td>\n",
              "      <td>1498</td>\n",
              "      <td>49.4</td>\n",
              "      <td>5</td>\n",
              "      <td>0</td>\n",
              "      <td>No Failure</td>\n",
              "    </tr>\n",
              "    <tr>\n",
              "      <th>3</th>\n",
              "      <td>4</td>\n",
              "      <td>L47183</td>\n",
              "      <td>L</td>\n",
              "      <td>298.2</td>\n",
              "      <td>308.6</td>\n",
              "      <td>1433</td>\n",
              "      <td>39.5</td>\n",
              "      <td>7</td>\n",
              "      <td>0</td>\n",
              "      <td>No Failure</td>\n",
              "    </tr>\n",
              "    <tr>\n",
              "      <th>4</th>\n",
              "      <td>5</td>\n",
              "      <td>L47184</td>\n",
              "      <td>L</td>\n",
              "      <td>298.2</td>\n",
              "      <td>308.7</td>\n",
              "      <td>1408</td>\n",
              "      <td>40.0</td>\n",
              "      <td>9</td>\n",
              "      <td>0</td>\n",
              "      <td>No Failure</td>\n",
              "    </tr>\n",
              "  </tbody>\n",
              "</table>\n",
              "</div>\n",
              "      <button class=\"colab-df-convert\" onclick=\"convertToInteractive('df-8d30d879-334e-490d-80c0-2a0b0419fff8')\"\n",
              "              title=\"Convert this dataframe to an interactive table.\"\n",
              "              style=\"display:none;\">\n",
              "\n",
              "  <svg xmlns=\"http://www.w3.org/2000/svg\" height=\"24px\"viewBox=\"0 0 24 24\"\n",
              "       width=\"24px\">\n",
              "    <path d=\"M0 0h24v24H0V0z\" fill=\"none\"/>\n",
              "    <path d=\"M18.56 5.44l.94 2.06.94-2.06 2.06-.94-2.06-.94-.94-2.06-.94 2.06-2.06.94zm-11 1L8.5 8.5l.94-2.06 2.06-.94-2.06-.94L8.5 2.5l-.94 2.06-2.06.94zm10 10l.94 2.06.94-2.06 2.06-.94-2.06-.94-.94-2.06-.94 2.06-2.06.94z\"/><path d=\"M17.41 7.96l-1.37-1.37c-.4-.4-.92-.59-1.43-.59-.52 0-1.04.2-1.43.59L10.3 9.45l-7.72 7.72c-.78.78-.78 2.05 0 2.83L4 21.41c.39.39.9.59 1.41.59.51 0 1.02-.2 1.41-.59l7.78-7.78 2.81-2.81c.8-.78.8-2.07 0-2.86zM5.41 20L4 18.59l7.72-7.72 1.47 1.35L5.41 20z\"/>\n",
              "  </svg>\n",
              "      </button>\n",
              "\n",
              "\n",
              "\n",
              "    <div id=\"df-71aefbee-f8a0-49d9-9b7a-5ab96d444d46\">\n",
              "      <button class=\"colab-df-quickchart\" onclick=\"quickchart('df-71aefbee-f8a0-49d9-9b7a-5ab96d444d46')\"\n",
              "              title=\"Suggest charts.\"\n",
              "              style=\"display:none;\">\n",
              "\n",
              "<svg xmlns=\"http://www.w3.org/2000/svg\" height=\"24px\"viewBox=\"0 0 24 24\"\n",
              "     width=\"24px\">\n",
              "    <g>\n",
              "        <path d=\"M19 3H5c-1.1 0-2 .9-2 2v14c0 1.1.9 2 2 2h14c1.1 0 2-.9 2-2V5c0-1.1-.9-2-2-2zM9 17H7v-7h2v7zm4 0h-2V7h2v10zm4 0h-2v-4h2v4z\"/>\n",
              "    </g>\n",
              "</svg>\n",
              "      </button>\n",
              "    </div>\n",
              "\n",
              "<style>\n",
              "  .colab-df-quickchart {\n",
              "    background-color: #E8F0FE;\n",
              "    border: none;\n",
              "    border-radius: 50%;\n",
              "    cursor: pointer;\n",
              "    display: none;\n",
              "    fill: #1967D2;\n",
              "    height: 32px;\n",
              "    padding: 0 0 0 0;\n",
              "    width: 32px;\n",
              "  }\n",
              "\n",
              "  .colab-df-quickchart:hover {\n",
              "    background-color: #E2EBFA;\n",
              "    box-shadow: 0px 1px 2px rgba(60, 64, 67, 0.3), 0px 1px 3px 1px rgba(60, 64, 67, 0.15);\n",
              "    fill: #174EA6;\n",
              "  }\n",
              "\n",
              "  [theme=dark] .colab-df-quickchart {\n",
              "    background-color: #3B4455;\n",
              "    fill: #D2E3FC;\n",
              "  }\n",
              "\n",
              "  [theme=dark] .colab-df-quickchart:hover {\n",
              "    background-color: #434B5C;\n",
              "    box-shadow: 0px 1px 3px 1px rgba(0, 0, 0, 0.15);\n",
              "    filter: drop-shadow(0px 1px 2px rgba(0, 0, 0, 0.3));\n",
              "    fill: #FFFFFF;\n",
              "  }\n",
              "</style>\n",
              "\n",
              "    <script>\n",
              "      async function quickchart(key) {\n",
              "        const containerElement = document.querySelector('#' + key);\n",
              "        const charts = await google.colab.kernel.invokeFunction(\n",
              "            'suggestCharts', [key], {});\n",
              "      }\n",
              "    </script>\n",
              "\n",
              "      <script>\n",
              "\n",
              "function displayQuickchartButton(domScope) {\n",
              "  let quickchartButtonEl =\n",
              "    domScope.querySelector('#df-71aefbee-f8a0-49d9-9b7a-5ab96d444d46 button.colab-df-quickchart');\n",
              "  quickchartButtonEl.style.display =\n",
              "    google.colab.kernel.accessAllowed ? 'block' : 'none';\n",
              "}\n",
              "\n",
              "        displayQuickchartButton(document);\n",
              "      </script>\n",
              "      <style>\n",
              "    .colab-df-container {\n",
              "      display:flex;\n",
              "      flex-wrap:wrap;\n",
              "      gap: 12px;\n",
              "    }\n",
              "\n",
              "    .colab-df-convert {\n",
              "      background-color: #E8F0FE;\n",
              "      border: none;\n",
              "      border-radius: 50%;\n",
              "      cursor: pointer;\n",
              "      display: none;\n",
              "      fill: #1967D2;\n",
              "      height: 32px;\n",
              "      padding: 0 0 0 0;\n",
              "      width: 32px;\n",
              "    }\n",
              "\n",
              "    .colab-df-convert:hover {\n",
              "      background-color: #E2EBFA;\n",
              "      box-shadow: 0px 1px 2px rgba(60, 64, 67, 0.3), 0px 1px 3px 1px rgba(60, 64, 67, 0.15);\n",
              "      fill: #174EA6;\n",
              "    }\n",
              "\n",
              "    [theme=dark] .colab-df-convert {\n",
              "      background-color: #3B4455;\n",
              "      fill: #D2E3FC;\n",
              "    }\n",
              "\n",
              "    [theme=dark] .colab-df-convert:hover {\n",
              "      background-color: #434B5C;\n",
              "      box-shadow: 0px 1px 3px 1px rgba(0, 0, 0, 0.15);\n",
              "      filter: drop-shadow(0px 1px 2px rgba(0, 0, 0, 0.3));\n",
              "      fill: #FFFFFF;\n",
              "    }\n",
              "  </style>\n",
              "\n",
              "      <script>\n",
              "        const buttonEl =\n",
              "          document.querySelector('#df-8d30d879-334e-490d-80c0-2a0b0419fff8 button.colab-df-convert');\n",
              "        buttonEl.style.display =\n",
              "          google.colab.kernel.accessAllowed ? 'block' : 'none';\n",
              "\n",
              "        async function convertToInteractive(key) {\n",
              "          const element = document.querySelector('#df-8d30d879-334e-490d-80c0-2a0b0419fff8');\n",
              "          const dataTable =\n",
              "            await google.colab.kernel.invokeFunction('convertToInteractive',\n",
              "                                                     [key], {});\n",
              "          if (!dataTable) return;\n",
              "\n",
              "          const docLinkHtml = 'Like what you see? Visit the ' +\n",
              "            '<a target=\"_blank\" href=https://colab.research.google.com/notebooks/data_table.ipynb>data table notebook</a>'\n",
              "            + ' to learn more about interactive tables.';\n",
              "          element.innerHTML = '';\n",
              "          dataTable['output_type'] = 'display_data';\n",
              "          await google.colab.output.renderOutput(dataTable, element);\n",
              "          const docLink = document.createElement('div');\n",
              "          docLink.innerHTML = docLinkHtml;\n",
              "          element.appendChild(docLink);\n",
              "        }\n",
              "      </script>\n",
              "    </div>\n",
              "  </div>\n"
            ]
          },
          "metadata": {},
          "execution_count": 2
        }
      ],
      "source": [
        "import pandas as pd\n",
        "import matplotlib.pyplot as plt\n",
        "import numpy as np\n",
        "import seaborn as sns\n",
        "\n",
        "file_path = '/content/milling_machine_data.xlsx'\n",
        "\n",
        "# Load the data from the Excel file\n",
        "data = pd.read_excel(file_path)\n",
        "\n",
        "# Print the first few rows to check that the data was loaded correctly\n",
        "data.head()"
      ]
    },
    {
      "cell_type": "markdown",
      "source": [
        "\n",
        "### **EDA and Preprocessing:**"
      ],
      "metadata": {
        "id": "CtlCp45qzdaw"
      }
    },
    {
      "cell_type": "code",
      "source": [
        "# Check for missing values in the dataset\n",
        "print(data.isnull().sum())\n"
      ],
      "metadata": {
        "colab": {
          "base_uri": "https://localhost:8080/"
        },
        "id": "S5f479pDvgC0",
        "outputId": "c009ac91-2e1b-4e04-a42b-bd875801af95"
      },
      "execution_count": null,
      "outputs": [
        {
          "output_type": "stream",
          "name": "stdout",
          "text": [
            "UDI                        0\n",
            "Product_ID                 0\n",
            "Type                       0\n",
            "Air_temperature_[K]        0\n",
            "Process_temperature_[K]    0\n",
            "Rotational_speed_[rpm]     0\n",
            "Torque_[Nm]                0\n",
            "Tool_wear_[min]            0\n",
            "Target                     0\n",
            "Failure_Type               0\n",
            "dtype: int64\n"
          ]
        }
      ]
    },
    {
      "cell_type": "code",
      "source": [
        "# Create a cross-tabulation between 'Target' and 'Failure_Type'\n",
        "cross_table = pd.crosstab(data['Target'], data['Failure_Type'])\n",
        "\n",
        "# Print the cross-tabulation table\n",
        "print(cross_table)\n",
        "\n",
        "# Plot the cross-tabulation table as a heatmap\n",
        "plt.figure(figsize=(8, 6))\n",
        "sns.heatmap(cross_table, annot=True, cmap='YlGnBu', fmt='d')\n",
        "plt.title('Target vs Failure_Type')\n",
        "plt.xlabel('Failure_Type')\n",
        "plt.ylabel('Target')\n",
        "plt.show()\n"
      ],
      "metadata": {
        "colab": {
          "base_uri": "https://localhost:8080/",
          "height": 871
        },
        "id": "V7gHFZR8NHvR",
        "outputId": "ad0ed3fe-4e13-4725-be5c-e9ba6fde0d73"
      },
      "execution_count": null,
      "outputs": [
        {
          "output_type": "stream",
          "name": "stdout",
          "text": [
            "Failure_Type  Heat Dissipation Failure  No Failure  Overstrain Failure  \\\n",
            "Target                                                                   \n",
            "0                                    0        9643                   0   \n",
            "1                                  112           9                  78   \n",
            "\n",
            "Failure_Type  Power Failure  Random Failures  Tool Wear Failure  \n",
            "Target                                                           \n",
            "0                         0               18                  0  \n",
            "1                        95                0                 45  \n"
          ]
        },
        {
          "output_type": "display_data",
          "data": {
            "text/plain": [
              "<Figure size 800x600 with 2 Axes>"
            ],
            "image/png": "[encoded data removed]"
          },
          "metadata": {}
        }
      ]
    },
    {
      "cell_type": "markdown",
      "source": [
        "## From the tables we can see that the Target Variable is being used as a boolean for when the machine fails.\n",
        "### However, it doesn't correlate to the Failure_Type variable perfectly, there are two inconsistencies:\n",
        "### 1) The Random Failures are being recorded with Target 0\n",
        "### 2) 9 machines which didn't fail have been recorded with Target 1\n",
        "\n",
        "### To deal with the first issue I'll relabel each Random Failure to have Target 1:"
      ],
      "metadata": {
        "id": "F4q7c_wIOvo_"
      }
    },
    {
      "cell_type": "code",
      "source": [
        "# Relabel \"Random Failures\" to have \"Target\" equal to 1\n",
        "data.loc[data['Failure_Type'] == 'Random Failures', 'Target'] = 1\n",
        "\n",
        "# Verify the changes\n",
        "print(data[data['Failure_Type'] == 'Random Failures'][['Failure_Type', 'Target']])\n",
        "\n",
        "# Save the updated DataFrame if needed\n",
        "# data.to_excel('/content/milling_machine_data_updated.xlsx', index=False)\n"
      ],
      "metadata": {
        "colab": {
          "base_uri": "https://localhost:8080/"
        },
        "id": "FOO1z3k2d3P0",
        "outputId": "584eb047-32d6-44bf-851c-eda909e3200e"
      },
      "execution_count": null,
      "outputs": [
        {
          "output_type": "stream",
          "name": "stdout",
          "text": [
            "         Failure_Type  Target\n",
            "1221  Random Failures       1\n",
            "1302  Random Failures       1\n",
            "1748  Random Failures       1\n",
            "2072  Random Failures       1\n",
            "2559  Random Failures       1\n",
            "3065  Random Failures       1\n",
            "3452  Random Failures       1\n",
            "5471  Random Failures       1\n",
            "5489  Random Failures       1\n",
            "5495  Random Failures       1\n",
            "5509  Random Failures       1\n",
            "5553  Random Failures       1\n",
            "5639  Random Failures       1\n",
            "6091  Random Failures       1\n",
            "6913  Random Failures       1\n",
            "6960  Random Failures       1\n",
            "7488  Random Failures       1\n",
            "7868  Random Failures       1\n"
          ]
        }
      ]
    },
    {
      "cell_type": "markdown",
      "source": [
        "### To deal with the second issue I'll delete these \"No Failure\" entries:"
      ],
      "metadata": {
        "id": "bRLpVex0eHGM"
      }
    },
    {
      "cell_type": "code",
      "source": [
        "# Filter and delete rows with \"No Failure\" and \"Target\" equal to 1\n",
        "rows_to_delete = (data['Failure_Type'] == 'No Failure') & (data['Target'] == 1)\n",
        "data = data[~rows_to_delete]"
      ],
      "metadata": {
        "id": "zXh0cHIsPFEu"
      },
      "execution_count": null,
      "outputs": []
    },
    {
      "cell_type": "markdown",
      "source": [
        "### Now lets verify these changes:"
      ],
      "metadata": {
        "id": "ADEs-wtyfL7f"
      }
    },
    {
      "cell_type": "code",
      "source": [
        "cross_table = pd.crosstab(data['Target'], data['Failure_Type'])\n",
        "print(cross_table)"
      ],
      "metadata": {
        "colab": {
          "base_uri": "https://localhost:8080/"
        },
        "id": "TOHxzgzQfOT-",
        "outputId": "561cf051-2470-417e-fd7a-43631c4d6eb6"
      },
      "execution_count": null,
      "outputs": [
        {
          "output_type": "stream",
          "name": "stdout",
          "text": [
            "Failure_Type  Heat Dissipation Failure  No Failure  Overstrain Failure  \\\n",
            "Target                                                                   \n",
            "0                                    0        9643                   0   \n",
            "1                                  112           0                  78   \n",
            "\n",
            "Failure_Type  Power Failure  Random Failures  Tool Wear Failure  \n",
            "Target                                                           \n",
            "0                         0                0                  0  \n",
            "1                        95               18                 45  \n"
          ]
        }
      ]
    },
    {
      "cell_type": "markdown",
      "source": [
        "### Now I will test 4 different models: XGBoost, Random Forest, Decison Tree, LightGBM:"
      ],
      "metadata": {
        "id": "LR_NydUAhq5s"
      }
    },
    {
      "cell_type": "markdown",
      "source": [
        "### Since  XGBoost and LightGBM require numeric data I will have to deal with non-numeric (categorical) columns in my dataset, such as \"Product_ID\", \"Type\", and \"Failure_Type\". I will one-hot encode \"Product_ID\" and \"Type\" and there will be no need to use Failure_Type since I am not interested in specific types of failures so this variable will not be included in the feature set."
      ],
      "metadata": {
        "id": "2k8DUArEkYIj"
      }
    },
    {
      "cell_type": "code",
      "source": [
        "import pandas as pd\n",
        "from sklearn.model_selection import train_test_split\n",
        "from sklearn.metrics import classification_report\n",
        "from xgboost import XGBClassifier\n",
        "from sklearn.ensemble import RandomForestClassifier\n",
        "from sklearn.tree import DecisionTreeClassifier\n",
        "import lightgbm as lgb\n",
        "\n",
        "# Preprocessing: One-hot encode only 'Product_ID' and 'Type'\n",
        "data = pd.get_dummies(data, columns=['Product_ID', 'Type'], drop_first=True)\n",
        "\n",
        "# Remove any special characters from column names (e.g., [, ], <)\n",
        "data.columns = [\"\".join(c if c.isalnum() else \"_\" for c in str(col)) for col in data.columns]\n",
        "\n",
        "# Split the data into features (X) and target (y)\n",
        "X = data.drop(['Target', 'Failure_Type'], axis=1)  # Exclude 'Failure_Type' from features\n",
        "y = data['Target']\n",
        "\n",
        "# Split the data into training and testing sets (80% train, 20% test)\n",
        "X_train, X_test, y_train, y_test = train_test_split(X, y, test_size=0.2, random_state=42)\n",
        "\n",
        "# Initialize the models\n",
        "models = {\n",
        "    'XGBoost': XGBClassifier(),\n",
        "    'Random Forest': RandomForestClassifier(),\n",
        "    'Decision Tree': DecisionTreeClassifier(),\n",
        "    'LightGBM': lgb.LGBMClassifier()\n",
        "}\n",
        "\n",
        "# Train and test each model\n",
        "for model_name, model in models.items():\n",
        "    # Train the model\n",
        "    model.fit(X_train, y_train)\n",
        "\n",
        "    # Make predictions on the test set\n",
        "    y_pred = model.predict(X_test)\n",
        "\n",
        "    # Generate the classification report\n",
        "    report = classification_report(y_test, y_pred)\n",
        "\n",
        "    # Print the classification report for each model\n",
        "    print(f\"Classification Report for {model_name}:\")\n",
        "    print(report)\n",
        "    print(\"----------------------------------\")\n",
        "\n"
      ],
      "metadata": {
        "id": "Ehxc7th0hxSb",
        "colab": {
          "base_uri": "https://localhost:8080/"
        },
        "outputId": "f1909b57-153e-4a2a-b272-1283e8caa736"
      },
      "execution_count": null,
      "outputs": [
        {
          "output_type": "stream",
          "name": "stdout",
          "text": [
            "Classification Report for XGBoost:\n",
            "              precision    recall  f1-score   support\n",
            "\n",
            "           0       0.99      0.99      0.99      1920\n",
            "           1       0.85      0.72      0.78        79\n",
            "\n",
            "    accuracy                           0.98      1999\n",
            "   macro avg       0.92      0.86      0.89      1999\n",
            "weighted avg       0.98      0.98      0.98      1999\n",
            "\n",
            "----------------------------------\n",
            "Classification Report for Random Forest:\n",
            "              precision    recall  f1-score   support\n",
            "\n",
            "           0       0.97      1.00      0.99      1920\n",
            "           1       0.89      0.30      0.45        79\n",
            "\n",
            "    accuracy                           0.97      1999\n",
            "   macro avg       0.93      0.65      0.72      1999\n",
            "weighted avg       0.97      0.97      0.96      1999\n",
            "\n",
            "----------------------------------\n",
            "Classification Report for Decision Tree:\n",
            "              precision    recall  f1-score   support\n",
            "\n",
            "           0       0.99      0.99      0.99      1920\n",
            "           1       0.84      0.65      0.73        79\n",
            "\n",
            "    accuracy                           0.98      1999\n",
            "   macro avg       0.91      0.82      0.86      1999\n",
            "weighted avg       0.98      0.98      0.98      1999\n",
            "\n",
            "----------------------------------\n",
            "Classification Report for LightGBM:\n",
            "              precision    recall  f1-score   support\n",
            "\n",
            "           0       0.99      1.00      0.99      1920\n",
            "           1       0.89      0.68      0.77        79\n",
            "\n",
            "    accuracy                           0.98      1999\n",
            "   macro avg       0.94      0.84      0.88      1999\n",
            "weighted avg       0.98      0.98      0.98      1999\n",
            "\n",
            "----------------------------------\n"
          ]
        }
      ]
    },
    {
      "cell_type": "markdown",
      "source": [
        "### XGBoost has the best f1-score for predicting when Target will have the value 1 and therefore is the best at predicting if a machine will fail.\n",
        "### I will now balance the data to improve performance. I will compare three different methods to balance the data: SMOTE (Synthetic Minority Over-sampling Technique), class weight balancing, and stratified sampling: (Note: I will also test LightGBM since it had an f1-score of 0.77)"
      ],
      "metadata": {
        "id": "Rrr1y859ZsJZ"
      }
    },
    {
      "cell_type": "code",
      "source": [
        "import pandas as pd\n",
        "from sklearn.model_selection import train_test_split\n",
        "from sklearn.metrics import classification_report\n",
        "from xgboost import XGBClassifier\n",
        "from sklearn.ensemble import RandomForestClassifier\n",
        "from sklearn.tree import DecisionTreeClassifier\n",
        "import lightgbm as lgb\n",
        "from imblearn.over_sampling import SMOTE\n",
        "from sklearn.utils import class_weight\n",
        "from collections import Counter\n",
        "\n",
        "# Method 1: SMOTE (Synthetic Minority Over-sampling Technique)\n",
        "smote = SMOTE(random_state=42)\n",
        "X_train_smote, y_train_smote = smote.fit_resample(X_train, y_train)\n",
        "\n",
        "# Method 2: Class Weight Balancing\n",
        "class_weights = class_weight.compute_class_weight('balanced', classes=[0, 1], y=y_train)\n",
        "model_weight_balanced = lgb.LGBMClassifier(class_weight={0: class_weights[0], 1: class_weights[1]})\n",
        "\n",
        "# Method 3: Stratified Sampling\n",
        "model_stratified = lgb.LGBMClassifier()\n",
        "\n",
        "# Train and test each model\n",
        "models = {\n",
        "    'XGBoost (Original)': XGBClassifier(),\n",
        "    'XGBoost (SMOTE)': XGBClassifier(),\n",
        "    'XGBoost (Class Weight Balancing)': model_weight_balanced,\n",
        "    'XGBoost (Stratified Sampling)': model_stratified,\n",
        "    'LightGBM (Original)': lgb.LGBMClassifier(),\n",
        "    'LightGBM (SMOTE)': lgb.LGBMClassifier(),\n",
        "    'LightGBM (Class Weight Balancing)': lgb.LGBMClassifier(class_weight={0: class_weights[0], 1: class_weights[1]}),\n",
        "    'LightGBM (Stratified Sampling)': lgb.LGBMClassifier(),\n",
        "}\n",
        "\n",
        "for model_name, model in models.items():\n",
        "    if 'XGBoost' in model_name:\n",
        "        if 'SMOTE' in model_name:\n",
        "            model.fit(X_train_smote, y_train_smote)\n",
        "        else:\n",
        "            model.fit(X_train, y_train)\n",
        "    else:  # LightGBM models\n",
        "        if 'SMOTE' in model_name:\n",
        "            model.fit(X_train_smote, y_train_smote)\n",
        "        else:\n",
        "            model.fit(X_train, y_train, eval_set=[(X_test, y_test)], early_stopping_rounds=10, verbose=False)\n",
        "\n",
        "    y_pred = model.predict(X_test)\n",
        "\n",
        "    # Generate the classification report\n",
        "    report = classification_report(y_test, y_pred)\n",
        "\n",
        "    # Print the classification report for each model\n",
        "    print(f\"Classification Report for {model_name}:\")\n",
        "    print(report)\n",
        "    print(\"----------------------------------\")\n"
      ],
      "metadata": {
        "colab": {
          "base_uri": "https://localhost:8080/"
        },
        "id": "GNFE-h2p6GNh",
        "outputId": "b0a0d7c2-01b2-407d-bfc5-d70992c2aeeb"
      },
      "execution_count": null,
      "outputs": [
        {
          "output_type": "stream",
          "name": "stdout",
          "text": [
            "Classification Report for XGBoost (Original):\n",
            "              precision    recall  f1-score   support\n",
            "\n",
            "           0       0.99      0.99      0.99      1920\n",
            "           1       0.85      0.72      0.78        79\n",
            "\n",
            "    accuracy                           0.98      1999\n",
            "   macro avg       0.92      0.86      0.89      1999\n",
            "weighted avg       0.98      0.98      0.98      1999\n",
            "\n",
            "----------------------------------\n",
            "Classification Report for XGBoost (SMOTE):\n",
            "              precision    recall  f1-score   support\n",
            "\n",
            "           0       0.99      0.98      0.99      1920\n",
            "           1       0.61      0.78      0.69        79\n",
            "\n",
            "    accuracy                           0.97      1999\n",
            "   macro avg       0.80      0.88      0.84      1999\n",
            "weighted avg       0.98      0.97      0.97      1999\n",
            "\n",
            "----------------------------------\n",
            "Classification Report for XGBoost (Class Weight Balancing):\n",
            "              precision    recall  f1-score   support\n",
            "\n",
            "           0       0.99      0.98      0.99      1920\n",
            "           1       0.67      0.81      0.73        79\n",
            "\n",
            "    accuracy                           0.98      1999\n",
            "   macro avg       0.83      0.90      0.86      1999\n",
            "weighted avg       0.98      0.98      0.98      1999\n",
            "\n",
            "----------------------------------\n",
            "Classification Report for XGBoost (Stratified Sampling):\n",
            "              precision    recall  f1-score   support\n",
            "\n",
            "           0       0.99      1.00      0.99      1920\n",
            "           1       0.89      0.68      0.77        79\n",
            "\n",
            "    accuracy                           0.98      1999\n",
            "   macro avg       0.94      0.84      0.88      1999\n",
            "weighted avg       0.98      0.98      0.98      1999\n",
            "\n",
            "----------------------------------\n"
          ]
        },
        {
          "output_type": "stream",
          "name": "stderr",
          "text": [
            "/usr/local/lib/python3.10/dist-packages/lightgbm/sklearn.py:726: UserWarning: 'early_stopping_rounds' argument is deprecated and will be removed in a future release of LightGBM. Pass 'early_stopping()' callback via 'callbacks' argument instead.\n",
            "  _log_warning(\"'early_stopping_rounds' argument is deprecated and will be removed in a future release of LightGBM. \"\n",
            "/usr/local/lib/python3.10/dist-packages/lightgbm/sklearn.py:736: UserWarning: 'verbose' argument is deprecated and will be removed in a future release of LightGBM. Pass 'log_evaluation()' callback via 'callbacks' argument instead.\n",
            "  _log_warning(\"'verbose' argument is deprecated and will be removed in a future release of LightGBM. \"\n"
          ]
        },
        {
          "output_type": "stream",
          "name": "stdout",
          "text": [
            "Classification Report for LightGBM (Original):\n",
            "              precision    recall  f1-score   support\n",
            "\n",
            "           0       0.99      1.00      0.99      1920\n",
            "           1       0.89      0.68      0.77        79\n",
            "\n",
            "    accuracy                           0.98      1999\n",
            "   macro avg       0.94      0.84      0.88      1999\n",
            "weighted avg       0.98      0.98      0.98      1999\n",
            "\n",
            "----------------------------------\n",
            "Classification Report for LightGBM (SMOTE):\n",
            "              precision    recall  f1-score   support\n",
            "\n",
            "           0       0.99      0.97      0.98      1920\n",
            "           1       0.52      0.82      0.63        79\n",
            "\n",
            "    accuracy                           0.96      1999\n",
            "   macro avg       0.75      0.90      0.81      1999\n",
            "weighted avg       0.97      0.96      0.97      1999\n",
            "\n",
            "----------------------------------\n"
          ]
        },
        {
          "output_type": "stream",
          "name": "stderr",
          "text": [
            "/usr/local/lib/python3.10/dist-packages/lightgbm/sklearn.py:726: UserWarning: 'early_stopping_rounds' argument is deprecated and will be removed in a future release of LightGBM. Pass 'early_stopping()' callback via 'callbacks' argument instead.\n",
            "  _log_warning(\"'early_stopping_rounds' argument is deprecated and will be removed in a future release of LightGBM. \"\n",
            "/usr/local/lib/python3.10/dist-packages/lightgbm/sklearn.py:736: UserWarning: 'verbose' argument is deprecated and will be removed in a future release of LightGBM. Pass 'log_evaluation()' callback via 'callbacks' argument instead.\n",
            "  _log_warning(\"'verbose' argument is deprecated and will be removed in a future release of LightGBM. \"\n"
          ]
        },
        {
          "output_type": "stream",
          "name": "stdout",
          "text": [
            "Classification Report for LightGBM (Class Weight Balancing):\n",
            "              precision    recall  f1-score   support\n",
            "\n",
            "           0       0.99      0.98      0.99      1920\n",
            "           1       0.66      0.82      0.73        79\n",
            "\n",
            "    accuracy                           0.98      1999\n",
            "   macro avg       0.83      0.90      0.86      1999\n",
            "weighted avg       0.98      0.98      0.98      1999\n",
            "\n",
            "----------------------------------\n"
          ]
        },
        {
          "output_type": "stream",
          "name": "stderr",
          "text": [
            "/usr/local/lib/python3.10/dist-packages/lightgbm/sklearn.py:726: UserWarning: 'early_stopping_rounds' argument is deprecated and will be removed in a future release of LightGBM. Pass 'early_stopping()' callback via 'callbacks' argument instead.\n",
            "  _log_warning(\"'early_stopping_rounds' argument is deprecated and will be removed in a future release of LightGBM. \"\n",
            "/usr/local/lib/python3.10/dist-packages/lightgbm/sklearn.py:736: UserWarning: 'verbose' argument is deprecated and will be removed in a future release of LightGBM. Pass 'log_evaluation()' callback via 'callbacks' argument instead.\n",
            "  _log_warning(\"'verbose' argument is deprecated and will be removed in a future release of LightGBM. \"\n"
          ]
        },
        {
          "output_type": "stream",
          "name": "stdout",
          "text": [
            "Classification Report for LightGBM (Stratified Sampling):\n",
            "              precision    recall  f1-score   support\n",
            "\n",
            "           0       0.99      1.00      0.99      1920\n",
            "           1       0.89      0.68      0.77        79\n",
            "\n",
            "    accuracy                           0.98      1999\n",
            "   macro avg       0.94      0.84      0.88      1999\n",
            "weighted avg       0.98      0.98      0.98      1999\n",
            "\n",
            "----------------------------------\n"
          ]
        }
      ]
    },
    {
      "cell_type": "markdown",
      "source": [
        "### From the classification reports we can see XGBoost without data balancing performs best (f1-score of 0.78)."
      ],
      "metadata": {
        "id": "CxTa5Jye-MVr"
      }
    }
  ]
}